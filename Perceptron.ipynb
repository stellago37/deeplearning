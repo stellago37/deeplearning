{
 "cells": [
  {
   "cell_type": "markdown",
   "id": "ordinary-range",
   "metadata": {},
   "source": [
    "# 퍼셉트론이란?\n",
    "## 다수의 신호를 입력받아 하나의 신호를 출력합니다.\n"
   ]
  },
  {
   "cell_type": "markdown",
   "id": "macro-burning",
   "metadata": {},
   "source": [
    "## [퍼셉트론 - AND 게이트]"
   ]
  },
  {
   "cell_type": "code",
   "execution_count": 3,
   "id": "allied-portuguese",
   "metadata": {},
   "outputs": [],
   "source": [
    "def AND(x1, x2):\n",
    "    w1, w2, theta = 0.5, 0.5, 0.7\n",
    "    tmp = x1*w1 + x2*w2\n",
    "    if tmp <= theta:\n",
    "        return 0\n",
    "    elif tmp > theta:\n",
    "        return 1"
   ]
  },
  {
   "cell_type": "code",
   "execution_count": 4,
   "id": "educated-niagara",
   "metadata": {},
   "outputs": [
    {
     "data": {
      "text/plain": [
       "0"
      ]
     },
     "execution_count": 4,
     "metadata": {},
     "output_type": "execute_result"
    }
   ],
   "source": [
    "AND(0, 0)"
   ]
  },
  {
   "cell_type": "code",
   "execution_count": 5,
   "id": "senior-attraction",
   "metadata": {},
   "outputs": [
    {
     "data": {
      "text/plain": [
       "0"
      ]
     },
     "execution_count": 5,
     "metadata": {},
     "output_type": "execute_result"
    }
   ],
   "source": [
    "AND(1, 0)"
   ]
  },
  {
   "cell_type": "code",
   "execution_count": 7,
   "id": "aggressive-individual",
   "metadata": {},
   "outputs": [
    {
     "data": {
      "text/plain": [
       "0"
      ]
     },
     "execution_count": 7,
     "metadata": {},
     "output_type": "execute_result"
    }
   ],
   "source": [
    "AND(0, 1)"
   ]
  },
  {
   "cell_type": "code",
   "execution_count": 8,
   "id": "operational-solid",
   "metadata": {},
   "outputs": [
    {
     "data": {
      "text/plain": [
       "1"
      ]
     },
     "execution_count": 8,
     "metadata": {},
     "output_type": "execute_result"
    }
   ],
   "source": [
    "AND(1, 1)"
   ]
  },
  {
   "cell_type": "markdown",
   "id": "joined-implement",
   "metadata": {},
   "source": [
    "### **가중치와 편향 도입해서 적용해보기**"
   ]
  },
  {
   "cell_type": "markdown",
   "id": "excessive-topic",
   "metadata": {},
   "source": [
    "<img src=\"https://t1.daumcdn.net/cfile/tistory/9979C74F5B83619A28\">"
   ]
  },
  {
   "cell_type": "markdown",
   "id": "continental-happiness",
   "metadata": {},
   "source": [
    "### 1. AND 게이트"
   ]
  },
  {
   "cell_type": "code",
   "execution_count": 12,
   "id": "quick-relations",
   "metadata": {},
   "outputs": [
    {
     "data": {
      "text/plain": [
       "array([0. , 0.5])"
      ]
     },
     "execution_count": 12,
     "metadata": {},
     "output_type": "execute_result"
    }
   ],
   "source": [
    "import numpy as np\n",
    "x = np.array([0, 1]) # 입력\n",
    "w = np.array([0.5, 0.5]) # 가중치\n",
    "b = -0.7 # 편향\n",
    "w*x"
   ]
  },
  {
   "cell_type": "code",
   "execution_count": 13,
   "id": "previous-separation",
   "metadata": {},
   "outputs": [
    {
     "data": {
      "text/plain": [
       "0.5"
      ]
     },
     "execution_count": 13,
     "metadata": {},
     "output_type": "execute_result"
    }
   ],
   "source": [
    "np.sum(w*x)"
   ]
  },
  {
   "cell_type": "code",
   "execution_count": 14,
   "id": "younger-jackson",
   "metadata": {},
   "outputs": [
    {
     "data": {
      "text/plain": [
       "-0.19999999999999996"
      ]
     },
     "execution_count": 14,
     "metadata": {},
     "output_type": "execute_result"
    }
   ],
   "source": [
    "np.sum(w*x) + b"
   ]
  },
  {
   "cell_type": "markdown",
   "id": "nonprofit-anger",
   "metadata": {},
   "source": [
    "### 2. NAND 게이트"
   ]
  },
  {
   "cell_type": "code",
   "execution_count": 16,
   "id": "judicial-evaluation",
   "metadata": {},
   "outputs": [],
   "source": [
    "def NAND(x1, x2):\n",
    "    x = np.array([x1, x2])\n",
    "    w = np.array([-0.5, -0.5])\n",
    "    b = 0.7\n",
    "    tmp = np.sum(w*x) + b\n",
    "    if tmp <= 0:\n",
    "        return 0\n",
    "    else:\n",
    "        return 1"
   ]
  },
  {
   "cell_type": "markdown",
   "id": "fuzzy-litigation",
   "metadata": {},
   "source": [
    "### 3. OR 게이트"
   ]
  },
  {
   "cell_type": "code",
   "execution_count": 17,
   "id": "forbidden-backup",
   "metadata": {},
   "outputs": [],
   "source": [
    "def OR(x1, x2):\n",
    "    x = np.array([x1, x2])\n",
    "    w = np.array([0.5, 0.5])\n",
    "    b = -0.2\n",
    "    tmp = np.sum(w*x) + b\n",
    "    if tmp <= 0:\n",
    "        return 0\n",
    "    else:\n",
    "        return 1"
   ]
  },
  {
   "cell_type": "markdown",
   "id": "corporate-morocco",
   "metadata": {},
   "source": [
    "<hr>\n",
    "- AND, NAND, OR 은 모두 같은 구조의 퍼셉트론이나, 차이는 가중치 매개변수 값 뿐 임을 확인 할 수 있다.<br>\n",
    "- 실제 파이썬 작성 코드에서도 NAND와 OR 게이트, AND게이트가 다른 곳은 가중치와 편향 값을 설정하는 부분이다</font></div>"
   ]
  },
  {
   "cell_type": "markdown",
   "id": "competitive-alarm",
   "metadata": {},
   "source": [
    "4. XOR 게이트\n",
    "- 다층 구조의 네트워크"
   ]
  },
  {
   "cell_type": "code",
   "execution_count": 19,
   "id": "corresponding-thomas",
   "metadata": {},
   "outputs": [],
   "source": [
    "def XOR(x1, x2):\n",
    "    s1 = NAND(x1, x2)\n",
    "    s2 = OR(x1, x2)\n",
    "    y = AND(s1, s2)\n",
    "    return y"
   ]
  },
  {
   "cell_type": "code",
   "execution_count": 20,
   "id": "featured-madonna",
   "metadata": {},
   "outputs": [
    {
     "data": {
      "text/plain": [
       "0"
      ]
     },
     "execution_count": 20,
     "metadata": {},
     "output_type": "execute_result"
    }
   ],
   "source": [
    "XOR(0, 0) # 0출력\n",
    "XOR(1, 0) # 1출력\n",
    "XOR(0, 1) # 1출력\n",
    "XOR(1, 1) # 0출력"
   ]
  }
 ],
 "metadata": {
  "kernelspec": {
   "display_name": "Python 3",
   "language": "python",
   "name": "python3"
  },
  "language_info": {
   "codemirror_mode": {
    "name": "ipython",
    "version": 3
   },
   "file_extension": ".py",
   "mimetype": "text/x-python",
   "name": "python",
   "nbconvert_exporter": "python",
   "pygments_lexer": "ipython3",
   "version": "3.8.3"
  }
 },
 "nbformat": 4,
 "nbformat_minor": 5
}
